{
 "cells": [
  {
   "cell_type": "code",
   "execution_count": 1,
   "metadata": {},
   "outputs": [
    {
     "name": "stdout",
     "output_type": "stream",
     "text": [
      "5\n"
     ]
    }
   ],
   "source": [
    "a = 2\n",
    "b = 3\n",
    "\n",
    "c = a + b\n",
    "\n",
    "print(c)\n",
    "# 5"
   ]
  },
  {
   "cell_type": "code",
   "execution_count": 2,
   "metadata": {},
   "outputs": [
    {
     "name": "stdout",
     "output_type": "stream",
     "text": [
      "5\n"
     ]
    }
   ],
   "source": [
    "a = 2\n",
    "b = 3\n",
    "\n",
    "c = a.__add__(b)\n",
    "\n",
    "print(c)\n",
    "# 5"
   ]
  },
  {
   "cell_type": "code",
   "execution_count": 3,
   "metadata": {},
   "outputs": [
    {
     "ename": "TypeError",
     "evalue": "unsupported operand type(s) for +: 'A' and 'A'",
     "output_type": "error",
     "traceback": [
      "\u001b[0;31m---------------------------------------------------------------------------\u001b[0m",
      "\u001b[0;31mTypeError\u001b[0m                                 Traceback (most recent call last)",
      "Cell \u001b[0;32mIn[3], line 8\u001b[0m\n\u001b[1;32m      5\u001b[0m a1 \u001b[39m=\u001b[39m A(\u001b[39m2\u001b[39m)\n\u001b[1;32m      6\u001b[0m a2 \u001b[39m=\u001b[39m A(\u001b[39m3\u001b[39m)\n\u001b[0;32m----> 8\u001b[0m a3 \u001b[39m=\u001b[39m a1 \u001b[39m+\u001b[39;49m a2\n\u001b[1;32m      9\u001b[0m \u001b[39mprint\u001b[39m(a3\u001b[39m.\u001b[39mvalue)\n",
      "\u001b[0;31mTypeError\u001b[0m: unsupported operand type(s) for +: 'A' and 'A'"
     ]
    }
   ],
   "source": [
    "class A:\n",
    "    def __init__(self, value) -> None:\n",
    "        self.value = value\n",
    "\n",
    "a1 = A(2)\n",
    "a2 = A(3)\n",
    "\n",
    "a3 = a1 + a2\n",
    "print(a3.value)"
   ]
  },
  {
   "cell_type": "code",
   "execution_count": 4,
   "metadata": {},
   "outputs": [
    {
     "name": "stdout",
     "output_type": "stream",
     "text": [
      "5\n"
     ]
    }
   ],
   "source": [
    "class A:\n",
    "    def __init__(self, value) -> None:\n",
    "        self.value = value\n",
    "\n",
    "    def __add__(self, other):\n",
    "        result = self.value + other.value\n",
    "        return A(result)\n",
    "\n",
    "a1 = A(2)\n",
    "a2 = A(3)\n",
    "\n",
    "a3 = a1 + a2\n",
    "print(a3.value)"
   ]
  },
  {
   "cell_type": "code",
   "execution_count": 5,
   "metadata": {},
   "outputs": [
    {
     "name": "stdout",
     "output_type": "stream",
     "text": [
      "5 <class 'numpy.int64'>\n"
     ]
    }
   ],
   "source": [
    "import numpy as np\n",
    "\n",
    "a = 2\n",
    "b = np.array(3)\n",
    "\n",
    "c = a + b\n",
    "print(c, type(c))"
   ]
  },
  {
   "cell_type": "code",
   "execution_count": 6,
   "metadata": {},
   "outputs": [
    {
     "name": "stdout",
     "output_type": "stream",
     "text": [
      "3.0 <class 'float'>\n",
      "5.0 <class 'numpy.float64'>\n"
     ]
    }
   ],
   "source": [
    "import numpy as np\n",
    "\n",
    "a_int = 1\n",
    "b_float = 2.0\n",
    "c_ndarray = np.array(3)\n",
    "\n",
    "int_plus_float = a_int + b_float\n",
    "print(int_plus_float, type(int_plus_float))\n",
    "# 3.0 <class 'float'>\n",
    "\n",
    "float_plus_ndarray = b_float + c_ndarray\n",
    "print(float_plus_ndarray, type(float_plus_ndarray))\n",
    "# 5.0 <class 'numpy.float64'>"
   ]
  },
  {
   "cell_type": "code",
   "execution_count": 7,
   "metadata": {},
   "outputs": [
    {
     "name": "stdout",
     "output_type": "stream",
     "text": [
      "5 <class '__main__.A'>\n"
     ]
    }
   ],
   "source": [
    "class A:\n",
    "    def __init__(self, value) -> None:\n",
    "        self.value = value\n",
    "\n",
    "    def __add__(self, other):\n",
    "        other = as_A(other)\n",
    "        result = self.value + other.value\n",
    "        return A(result)\n",
    "    \n",
    "def as_A(x):\n",
    "    if not isinstance(x, A):\n",
    "        return A(x)\n",
    "    return x\n",
    "\n",
    "a1 = A(2)\n",
    "a2 = 3\n",
    "\n",
    "a3 = a1 + a2\n",
    "print(a3.value, type(a3))"
   ]
  },
  {
   "cell_type": "code",
   "execution_count": 8,
   "metadata": {},
   "outputs": [
    {
     "ename": "TypeError",
     "evalue": "unsupported operand type(s) for +: 'int' and 'A'",
     "output_type": "error",
     "traceback": [
      "\u001b[0;31m---------------------------------------------------------------------------\u001b[0m",
      "\u001b[0;31mTypeError\u001b[0m                                 Traceback (most recent call last)",
      "Cell \u001b[0;32mIn[8], line 1\u001b[0m\n\u001b[0;32m----> 1\u001b[0m a3 \u001b[39m=\u001b[39m a2 \u001b[39m+\u001b[39;49m a1\n\u001b[1;32m      2\u001b[0m \u001b[39mprint\u001b[39m(a3\u001b[39m.\u001b[39mvalue, \u001b[39mtype\u001b[39m(a3))\n",
      "\u001b[0;31mTypeError\u001b[0m: unsupported operand type(s) for +: 'int' and 'A'"
     ]
    }
   ],
   "source": [
    "a3 = a2 + a1\n",
    "print(a3.value, type(a3))"
   ]
  },
  {
   "cell_type": "code",
   "execution_count": 9,
   "metadata": {},
   "outputs": [
    {
     "name": "stdout",
     "output_type": "stream",
     "text": [
      "5 <class '__main__.A'>\n"
     ]
    }
   ],
   "source": [
    "class A:\n",
    "    def __init__(self, value) -> None:\n",
    "        self.value = value\n",
    "\n",
    "    def __add__(self, other):\n",
    "        other = as_A(other)\n",
    "        result = self.value + other.value\n",
    "        return A(result)\n",
    "    \n",
    "    def __radd__(self, other):\n",
    "        other = as_A(other)\n",
    "        result = self.value + other.value\n",
    "        return A(result)\n",
    "    \n",
    "a1 = A(2)\n",
    "a2 = 3\n",
    "\n",
    "a3 = a2 + a1\n",
    "print(a3.value, type(a3))"
   ]
  },
  {
   "cell_type": "code",
   "execution_count": null,
   "metadata": {},
   "outputs": [],
   "source": []
  },
  {
   "cell_type": "code",
   "execution_count": 46,
   "metadata": {},
   "outputs": [
    {
     "name": "stdout",
     "output_type": "stream",
     "text": [
      "5 <class '__main__.B'>\n",
      "5 <class '__main__.B'>\n"
     ]
    }
   ],
   "source": [
    "def as_A(x):\n",
    "    if not isinstance(x, A):\n",
    "        try:\n",
    "            x = x.value\n",
    "            return A(x)\n",
    "        except AttributeError:\n",
    "            return A(x)\n",
    "    return x\n",
    "\n",
    "def as_B(x):\n",
    "    if not isinstance(x, B):\n",
    "        try:\n",
    "            x = x.value\n",
    "            return B(x)\n",
    "        except AttributeError:\n",
    "            return B(x)\n",
    "    return x\n",
    "\n",
    "def is_bigger(a, b):\n",
    "    return True if a.__array_priority__ >= b.__array_priority__ else False\n",
    "\n",
    "class A:\n",
    "    __array_priority__ = 2\n",
    "    def __init__(self, value) -> None:\n",
    "        self.value = value\n",
    "\n",
    "    def __add__(self, other):\n",
    "        if is_bigger(self, other):\n",
    "            other = as_A(other)\n",
    "            result = self.value + other.value\n",
    "        else:\n",
    "            return other.__radd__(self)\n",
    "        return A(result)\n",
    "    \n",
    "    def __radd__(self, other):\n",
    "        other = as_A(other)\n",
    "        result = self.value + other.value\n",
    "        return A(result)\n",
    "    \n",
    "class B:\n",
    "    __array_priority__ = 3\n",
    "    def __init__(self, value) -> None:\n",
    "        self.value = value\n",
    "\n",
    "    def __add__(self, other):\n",
    "        if is_bigger(self, other):\n",
    "            other = as_B(other)\n",
    "            result = self.value + other.value\n",
    "        else:\n",
    "            return other.__radd__(self)\n",
    "        return B(result)\n",
    "    \n",
    "    def __radd__(self, other):\n",
    "        other = as_B(other)\n",
    "        result = self.value + other.value\n",
    "        return B(result)\n",
    "    \n",
    "a1 = A(2)\n",
    "b1 = B(3)\n",
    "c = a1 + b1\n",
    "d = a1 + b1\n",
    "print(c.value, type(c))\n",
    "print(d.value, type(d))"
   ]
  },
  {
   "cell_type": "code",
   "execution_count": 82,
   "metadata": {},
   "outputs": [
    {
     "name": "stdout",
     "output_type": "stream",
     "text": [
      "<class 'numpy.ndarray'> 0.0\n"
     ]
    }
   ],
   "source": [
    "a = np.array(3)\n",
    "print(type(a), a.__array_priority__)"
   ]
  },
  {
   "cell_type": "code",
   "execution_count": 95,
   "metadata": {},
   "outputs": [
    {
     "ename": "TypeError",
     "evalue": "unsupported operand type(s) for +: 'int' and 'A'",
     "output_type": "error",
     "traceback": [
      "\u001b[0;31m---------------------------------------------------------------------------\u001b[0m",
      "\u001b[0;31mTypeError\u001b[0m                                 Traceback (most recent call last)",
      "Cell \u001b[0;32mIn[95], line 23\u001b[0m\n\u001b[1;32m     20\u001b[0m a1 \u001b[39m=\u001b[39m np\u001b[39m.\u001b[39marray(\u001b[39m3\u001b[39m)\n\u001b[1;32m     21\u001b[0m a2 \u001b[39m=\u001b[39m A(\u001b[39m2\u001b[39m)\n\u001b[0;32m---> 23\u001b[0m a3 \u001b[39m=\u001b[39m a1 \u001b[39m+\u001b[39;49m a2\n\u001b[1;32m     24\u001b[0m \u001b[39mprint\u001b[39m(a3\u001b[39m.\u001b[39mvalue, \u001b[39mtype\u001b[39m(a3))\n",
      "\u001b[0;31mTypeError\u001b[0m: unsupported operand type(s) for +: 'int' and 'A'"
     ]
    }
   ],
   "source": [
    "def as_A(x):\n",
    "    if not isinstance(x, A):\n",
    "        try:\n",
    "            x = x.value\n",
    "            return A(x)\n",
    "        except AttributeError:\n",
    "            return A(x)\n",
    "    return x\n",
    "\n",
    "class A:\n",
    "    def __init__(self, value) -> None:\n",
    "        self.value = value\n",
    "\n",
    "    def __add__(self, other):\n",
    "        print('A add excuted')\n",
    "        other = as_A(other)\n",
    "        result = self.value + other.value\n",
    "        return A(result)\n",
    "    \n",
    "a1 = np.array(3)\n",
    "a2 = A(2)\n",
    "\n",
    "a3 = a1 + a2\n",
    "print(a3.value, type(a3))"
   ]
  },
  {
   "cell_type": "code",
   "execution_count": 94,
   "metadata": {},
   "outputs": [
    {
     "ename": "TypeError",
     "evalue": "Concatenation operation is not implemented for NumPy arrays, use np.concatenate() instead. Please do not rely on this error; it may not be given on all Python implementations.",
     "output_type": "error",
     "traceback": [
      "\u001b[0;31m---------------------------------------------------------------------------\u001b[0m",
      "\u001b[0;31mTypeError\u001b[0m                                 Traceback (most recent call last)",
      "Cell \u001b[0;32mIn[94], line 5\u001b[0m\n\u001b[1;32m      2\u001b[0m a1 \u001b[39m=\u001b[39m np\u001b[39m.\u001b[39marray(\u001b[39m3\u001b[39m)\n\u001b[1;32m      3\u001b[0m a2 \u001b[39m=\u001b[39m A(\u001b[39m2\u001b[39m)\n\u001b[0;32m----> 5\u001b[0m a4 \u001b[39m=\u001b[39m a1 \u001b[39m+\u001b[39;49m a2\n\u001b[1;32m      6\u001b[0m \u001b[39mprint\u001b[39m(a3\u001b[39m.\u001b[39mvalue, \u001b[39mtype\u001b[39m(a3))\n",
      "\u001b[0;31mTypeError\u001b[0m: Concatenation operation is not implemented for NumPy arrays, use np.concatenate() instead. Please do not rely on this error; it may not be given on all Python implementations."
     ]
    }
   ],
   "source": [
    "A.__array_priority__ = 10\n",
    "a1 = np.array(3)\n",
    "a2 = A(2)\n",
    "\n",
    "a4 = a1 + a2\n",
    "print(a3.value, type(a3))"
   ]
  },
  {
   "cell_type": "code",
   "execution_count": 98,
   "metadata": {},
   "outputs": [
    {
     "name": "stdout",
     "output_type": "stream",
     "text": [
      "[1, 2, 3, 4, 5, 6]\n"
     ]
    }
   ],
   "source": [
    "a = [1,2,3]\n",
    "b = [4,5,6]\n",
    "c = a+b\n",
    "print(c)"
   ]
  }
 ],
 "metadata": {
  "kernelspec": {
   "display_name": "scratch",
   "language": "python",
   "name": "python3"
  },
  "language_info": {
   "codemirror_mode": {
    "name": "ipython",
    "version": 3
   },
   "file_extension": ".py",
   "mimetype": "text/x-python",
   "name": "python",
   "nbconvert_exporter": "python",
   "pygments_lexer": "ipython3",
   "version": "3.10.9"
  },
  "orig_nbformat": 4
 },
 "nbformat": 4,
 "nbformat_minor": 2
}
